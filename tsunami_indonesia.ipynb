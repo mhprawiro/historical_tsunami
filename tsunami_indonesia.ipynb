{
  "nbformat": 4,
  "nbformat_minor": 0,
  "metadata": {
    "colab": {
      "provenance": [],
      "authorship_tag": "ABX9TyPRoiEvgdxtU+uMys6+7DF9",
      "include_colab_link": true
    },
    "kernelspec": {
      "name": "python3",
      "display_name": "Python 3"
    },
    "language_info": {
      "name": "python"
    }
  },
  "cells": [
    {
      "cell_type": "markdown",
      "metadata": {
        "id": "view-in-github",
        "colab_type": "text"
      },
      "source": [
        "<a href=\"https://colab.research.google.com/github/mhprawiro/historical_tsunami/blob/main/tsunami_indonesia.ipynb\" target=\"_parent\"><img src=\"https://colab.research.google.com/assets/colab-badge.svg\" alt=\"Open In Colab\"/></a>"
      ]
    },
    {
      "cell_type": "code",
      "execution_count": null,
      "metadata": {
        "id": "5RAfueNST4nX"
      },
      "outputs": [],
      "source": [
        "import pandas as pd\n",
        "from pandas.io import gbq\n"
      ]
    },
    {
      "cell_type": "code",
      "source": [
        "query = \"\"\"\n",
        "SELECT * FROM `bigquery-public-data.noaa_tsunami.historical_runups` \n",
        "\n",
        "\"\"\"\n",
        "\n",
        "df_all_country = gbq.read_gbq(query=query,dialect='standard',project_id='ir-geospatial')"
      ],
      "metadata": {
        "id": "lHXZPLO4UBW-"
      },
      "execution_count": 17,
      "outputs": []
    },
    {
      "cell_type": "code",
      "source": [
        "# filter data Indonesia\n",
        "df_indonesia =  df_all_country.loc[df_all_country['country']== 'INDONESIA']\n",
        "df_indonesia.info()"
      ],
      "metadata": {
        "colab": {
          "base_uri": "https://localhost:8080/"
        },
        "id": "2usy7oDSUJZ6",
        "outputId": "3e374a23-363b-465e-e236-d308d0df72b9"
      },
      "execution_count": 20,
      "outputs": [
        {
          "output_type": "stream",
          "name": "stdout",
          "text": [
            "<class 'pandas.core.frame.DataFrame'>\n",
            "Int64Index: 2591 entries, 55 to 28077\n",
            "Data columns (total 34 columns):\n",
            " #   Column                        Non-Null Count  Dtype  \n",
            "---  ------                        --------------  -----  \n",
            " 0   id                            2591 non-null   Int64  \n",
            " 1   tsevent_id                    2591 non-null   Int64  \n",
            " 2   year                          2591 non-null   Int64  \n",
            " 3   month                         2586 non-null   Int64  \n",
            " 4   day                           2580 non-null   Int64  \n",
            " 5   timestamp                     2580 non-null   object \n",
            " 6   doubtful                      10 non-null     object \n",
            " 7   country                       2591 non-null   object \n",
            " 8   state                         2568 non-null   object \n",
            " 9   location_name                 2591 non-null   object \n",
            " 10  latitude                      2541 non-null   float64\n",
            " 11  longitude                     2541 non-null   float64\n",
            " 12  region_code                   2591 non-null   Int64  \n",
            " 13  distance_from_source          2541 non-null   Int64  \n",
            " 14  arr_day                       41 non-null     Int64  \n",
            " 15  arr_hour                      41 non-null     Int64  \n",
            " 16  arr_min                       41 non-null     Int64  \n",
            " 17  travel_time_hours             40 non-null     Int64  \n",
            " 18  travel_time_minutes           47 non-null     Int64  \n",
            " 19  water_ht                      2210 non-null   float64\n",
            " 20  horizontal_inundation         805 non-null    float64\n",
            " 21  type_measurement_id           2574 non-null   Int64  \n",
            " 22  period                        30 non-null     float64\n",
            " 23  first_motion                  22 non-null     object \n",
            " 24  deaths                        116 non-null    Int64  \n",
            " 25  deaths_description            155 non-null    Int64  \n",
            " 26  injuries                      27 non-null     Int64  \n",
            " 27  injuries_description          29 non-null     Int64  \n",
            " 28  damage_millions_dollars       3 non-null      float64\n",
            " 29  damage_description            298 non-null    Int64  \n",
            " 30  houses_damaged                14 non-null     Int64  \n",
            " 31  houses_damaged_description    111 non-null    Int64  \n",
            " 32  houses_destroyed              41 non-null     Int64  \n",
            " 33  houses_destroyed_description  164 non-null    Int64  \n",
            "dtypes: Int64(22), float64(6), object(6)\n",
            "memory usage: 764.1+ KB\n"
          ]
        }
      ]
    },
    {
      "cell_type": "markdown",
      "source": [
        "**Null Check**\n"
      ],
      "metadata": {
        "id": "BExsSw7zVFb2"
      }
    },
    {
      "cell_type": "code",
      "source": [],
      "metadata": {
        "id": "HCovSSoshnZW"
      },
      "execution_count": null,
      "outputs": []
    },
    {
      "cell_type": "code",
      "source": [
        "#original\n",
        "print(\"shape before drop null :\", df_indonesia.shape)\n",
        "      \n",
        "#drop null on lat long\n",
        "df_indonesia.dropna(axis = 0, subset = ['latitude','longitude'], inplace=True)\n",
        "      \n",
        "print(\"shape after drop null :\", df_indonesia.shape)"
      ],
      "metadata": {
        "colab": {
          "base_uri": "https://localhost:8080/"
        },
        "id": "yJsLm3lTUtbF",
        "outputId": "15ac1942-0e9d-4478-96c5-fbe82a63d2bb"
      },
      "execution_count": null,
      "outputs": [
        {
          "output_type": "stream",
          "name": "stdout",
          "text": [
            "shape before drop null : (2591, 34)\n",
            "shape after drop null : (2541, 34)\n"
          ]
        }
      ]
    },
    {
      "cell_type": "code",
      "source": [
        "df_indonesia['state'].value_counts()"
      ],
      "metadata": {
        "colab": {
          "base_uri": "https://localhost:8080/"
        },
        "id": "eoN-ykl_Vd_u",
        "outputId": "3739f419-6d5f-4a17-bc69-f84286cd9c96"
      },
      "execution_count": null,
      "outputs": [
        {
          "output_type": "execute_result",
          "data": {
            "text/plain": [
              "ACEH                   576\n",
              "WEST SUMATRA           368\n",
              "CENTRAL SULAWESI       330\n",
              "BANTEN                 255\n",
              "LAMPUNG                150\n",
              "MALUKU                 119\n",
              "EAST JAVA              110\n",
              "EAST NUSA TENGGARA     101\n",
              "WEST JAVA               99\n",
              "NORTH SUMATRA           91\n",
              "PAPUA                   65\n",
              "CENTRAL JAVA            45\n",
              "NORTH SULAWESI          39\n",
              "BENGKULU                38\n",
              "NORTH MALUKU            34\n",
              "BALI                    20\n",
              "WEST PAPUA              16\n",
              "YOGYAKARTA              15\n",
              "WEST NUSA TENGGARA      14\n",
              "SOUTH SULAWESI          10\n",
              "SUMATRA                  6\n",
              "WESTJAVA                 6\n",
              "WEST SULAWESI            5\n",
              "SOUTH KALIMANTAN         5\n",
              "JAKARTA                  4\n",
              "SOUTH EAST SULAWESI      4\n",
              "SULAWESI ISLAND          2\n",
              "GORONTALO                2\n",
              "SUNDA STRAIT             2\n",
              "BANGKA-BELITUNG          1\n",
              "RIAU                     1\n",
              "WEST KALIMANTAN          1\n",
              "EAST KALIMANTAN          1\n",
              "Name: state, dtype: int64"
            ]
          },
          "metadata": {},
          "execution_count": 16
        }
      ]
    },
    {
      "cell_type": "code",
      "source": [],
      "metadata": {
        "id": "4gqM8QpZWAuV"
      },
      "execution_count": null,
      "outputs": []
    }
  ]
}