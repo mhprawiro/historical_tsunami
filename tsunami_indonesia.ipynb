{
  "nbformat": 4,
  "nbformat_minor": 0,
  "metadata": {
    "colab": {
      "provenance": [],
      "authorship_tag": "ABX9TyMcNO/chXbJVcVKU4UEFCjq",
      "include_colab_link": true
    },
    "kernelspec": {
      "name": "python3",
      "display_name": "Python 3"
    },
    "language_info": {
      "name": "python"
    }
  },
  "cells": [
    {
      "cell_type": "markdown",
      "metadata": {
        "id": "view-in-github",
        "colab_type": "text"
      },
      "source": [
        "<a href=\"https://colab.research.google.com/github/mhprawiro/historical_tsunami/blob/main/tsunami_indonesia.ipynb\" target=\"_parent\"><img src=\"https://colab.research.google.com/assets/colab-badge.svg\" alt=\"Open In Colab\"/></a>"
      ]
    },
    {
      "cell_type": "code",
      "execution_count": 22,
      "metadata": {
        "id": "5RAfueNST4nX"
      },
      "outputs": [],
      "source": [
        "import pandas as pd\n",
        "from pandas.io import gbq\n",
        "from matplotlib import pyplot as plt\n",
        "plt.style.use('seaborn')\n",
        "\n",
        "import seaborn as sns\n"
      ]
    },
    {
      "cell_type": "code",
      "source": [
        "query = \"\"\"\n",
        "SELECT * FROM `bigquery-public-data.noaa_tsunami.historical_runups` \n",
        "\n",
        "\"\"\"\n",
        "\n",
        "df_all_country = gbq.read_gbq(query=query,dialect='standard',project_id='ir-geospatial')"
      ],
      "metadata": {
        "id": "lHXZPLO4UBW-"
      },
      "execution_count": 11,
      "outputs": []
    },
    {
      "cell_type": "code",
      "source": [
        "# filter data Indonesia\n",
        "df_indonesia =  df_all_country.loc[df_all_country['country']== 'INDONESIA']\n",
        "df_indonesia.info()"
      ],
      "metadata": {
        "colab": {
          "base_uri": "https://localhost:8080/"
        },
        "id": "2usy7oDSUJZ6",
        "outputId": "2763def7-40b6-42f6-93aa-73b43e6edae1"
      },
      "execution_count": 12,
      "outputs": [
        {
          "output_type": "stream",
          "name": "stdout",
          "text": [
            "<class 'pandas.core.frame.DataFrame'>\n",
            "Int64Index: 2591 entries, 55 to 28077\n",
            "Data columns (total 34 columns):\n",
            " #   Column                        Non-Null Count  Dtype  \n",
            "---  ------                        --------------  -----  \n",
            " 0   id                            2591 non-null   Int64  \n",
            " 1   tsevent_id                    2591 non-null   Int64  \n",
            " 2   year                          2591 non-null   Int64  \n",
            " 3   month                         2586 non-null   Int64  \n",
            " 4   day                           2580 non-null   Int64  \n",
            " 5   timestamp                     2580 non-null   object \n",
            " 6   doubtful                      10 non-null     object \n",
            " 7   country                       2591 non-null   object \n",
            " 8   state                         2568 non-null   object \n",
            " 9   location_name                 2591 non-null   object \n",
            " 10  latitude                      2541 non-null   float64\n",
            " 11  longitude                     2541 non-null   float64\n",
            " 12  region_code                   2591 non-null   Int64  \n",
            " 13  distance_from_source          2541 non-null   Int64  \n",
            " 14  arr_day                       41 non-null     Int64  \n",
            " 15  arr_hour                      41 non-null     Int64  \n",
            " 16  arr_min                       41 non-null     Int64  \n",
            " 17  travel_time_hours             40 non-null     Int64  \n",
            " 18  travel_time_minutes           47 non-null     Int64  \n",
            " 19  water_ht                      2210 non-null   float64\n",
            " 20  horizontal_inundation         805 non-null    float64\n",
            " 21  type_measurement_id           2574 non-null   Int64  \n",
            " 22  period                        30 non-null     float64\n",
            " 23  first_motion                  22 non-null     object \n",
            " 24  deaths                        116 non-null    Int64  \n",
            " 25  deaths_description            155 non-null    Int64  \n",
            " 26  injuries                      27 non-null     Int64  \n",
            " 27  injuries_description          29 non-null     Int64  \n",
            " 28  damage_millions_dollars       3 non-null      float64\n",
            " 29  damage_description            298 non-null    Int64  \n",
            " 30  houses_damaged                14 non-null     Int64  \n",
            " 31  houses_damaged_description    111 non-null    Int64  \n",
            " 32  houses_destroyed              41 non-null     Int64  \n",
            " 33  houses_destroyed_description  164 non-null    Int64  \n",
            "dtypes: Int64(22), float64(6), object(6)\n",
            "memory usage: 764.1+ KB\n"
          ]
        }
      ]
    },
    {
      "cell_type": "markdown",
      "source": [
        "**Null Check**\n"
      ],
      "metadata": {
        "id": "BExsSw7zVFb2"
      }
    },
    {
      "cell_type": "code",
      "source": [
        "df_indonesia.isnull().sum()"
      ],
      "metadata": {
        "colab": {
          "base_uri": "https://localhost:8080/"
        },
        "id": "Em75ShRvcatA",
        "outputId": "896afd4d-10d0-4960-80a4-d5e4e94dd0bf"
      },
      "execution_count": 13,
      "outputs": [
        {
          "output_type": "execute_result",
          "data": {
            "text/plain": [
              "id                                 0\n",
              "tsevent_id                         0\n",
              "year                               0\n",
              "month                              5\n",
              "day                               11\n",
              "timestamp                         11\n",
              "doubtful                        2581\n",
              "country                            0\n",
              "state                             23\n",
              "location_name                      0\n",
              "latitude                          50\n",
              "longitude                         50\n",
              "region_code                        0\n",
              "distance_from_source              50\n",
              "arr_day                         2550\n",
              "arr_hour                        2550\n",
              "arr_min                         2550\n",
              "travel_time_hours               2551\n",
              "travel_time_minutes             2544\n",
              "water_ht                         381\n",
              "horizontal_inundation           1786\n",
              "type_measurement_id               17\n",
              "period                          2561\n",
              "first_motion                    2569\n",
              "deaths                          2475\n",
              "deaths_description              2436\n",
              "injuries                        2564\n",
              "injuries_description            2562\n",
              "damage_millions_dollars         2588\n",
              "damage_description              2293\n",
              "houses_damaged                  2577\n",
              "houses_damaged_description      2480\n",
              "houses_destroyed                2550\n",
              "houses_destroyed_description    2427\n",
              "dtype: int64"
            ]
          },
          "metadata": {},
          "execution_count": 13
        }
      ]
    },
    {
      "cell_type": "code",
      "source": [],
      "metadata": {
        "id": "HSLm17C7hDd6"
      },
      "execution_count": null,
      "outputs": []
    },
    {
      "cell_type": "markdown",
      "source": [
        "**Data completeness**\n",
        "\n",
        "\n",
        "---\n",
        "\n",
        "\n",
        "\n",
        "\n",
        "*   Only several attributes has no **null** data.\n",
        "*   Considering to drop lot of columns since there is lot of rows with null value.\n",
        "\n",
        "\n",
        "\n",
        "\n",
        "\n",
        "\n",
        "\n",
        "\n"
      ],
      "metadata": {
        "id": "cfRUBPnPhD6t"
      }
    },
    {
      "cell_type": "code",
      "source": [
        "pd.set_option(\"display.max_columns\", None)\n",
        "df_indonesia.head()"
      ],
      "metadata": {
        "colab": {
          "base_uri": "https://localhost:8080/",
          "height": 409
        },
        "id": "YpTNp7RZdDH3",
        "outputId": "621ee33e-28ad-412e-e2b6-d4234298b039"
      },
      "execution_count": 14,
      "outputs": [
        {
          "output_type": "execute_result",
          "data": {
            "text/plain": [
              "        id  tsevent_id  year  month  day            timestamp doubtful  \\\n",
              "55   25417        1456  1918      8   15  1918-08-15 12:18:12     None   \n",
              "56   25418        1456  1918      8   15  1918-08-15 12:18:12     None   \n",
              "57    1763        1456  1918      8   15  1918-08-15 12:18:12     None   \n",
              "58   10030        1244  1897      9   21  1897-09-21 05:12:00     None   \n",
              "171  17182        4763  2010      4    6  2010-04-06 22:15:01     None   \n",
              "\n",
              "       country             state             location_name  latitude  \\\n",
              "55   INDONESIA    NORTH SULAWESI   MANADO, SULAWESI ISLAND    1.4950   \n",
              "56   INDONESIA  CENTRAL SULAWESI     BUOL, SULAWESI ISLAND    1.1667   \n",
              "57   INDONESIA  CENTRAL SULAWESI  PALELEH, SULAWESI ISLAND    1.0481   \n",
              "58   INDONESIA    NORTH SULAWESI               SIAU ISLAND    2.8100   \n",
              "171  INDONESIA     NORTH SUMATRA          SIBOLGA, SUMATRA    1.7290   \n",
              "\n",
              "     longitude  region_code  distance_from_source  arr_day  arr_hour  arr_min  \\\n",
              "55    124.8400           83                   490       15        21       15   \n",
              "56    121.4333           83                   512       15        21       15   \n",
              "57    121.9514           83                   509       15        21        0   \n",
              "58    125.4100           83                   519       21         8       30   \n",
              "171    98.7850           60                   206        6        23       33   \n",
              "\n",
              "     travel_time_hours  travel_time_minutes  water_ht  horizontal_inundation  \\\n",
              "55                   9                    7      1.00                    NaN   \n",
              "56                   9                    7       NaN                    NaN   \n",
              "57                   8                   52       NaN                    NaN   \n",
              "58                   1                   30       NaN                    NaN   \n",
              "171                  1                   18      0.19                    NaN   \n",
              "\n",
              "     type_measurement_id  period first_motion  deaths  deaths_description  \\\n",
              "55                     1     NaN         None    <NA>                <NA>   \n",
              "56                     1     NaN         None    <NA>                <NA>   \n",
              "57                     1     NaN         None    <NA>                <NA>   \n",
              "58                     1     NaN         None    <NA>                <NA>   \n",
              "171                    2    33.0            R    <NA>                <NA>   \n",
              "\n",
              "     injuries  injuries_description  damage_millions_dollars  \\\n",
              "55       <NA>                  <NA>                      NaN   \n",
              "56       <NA>                  <NA>                      NaN   \n",
              "57       <NA>                  <NA>                      NaN   \n",
              "58       <NA>                  <NA>                      NaN   \n",
              "171      <NA>                  <NA>                      NaN   \n",
              "\n",
              "     damage_description  houses_damaged  houses_damaged_description  \\\n",
              "55                 <NA>            <NA>                        <NA>   \n",
              "56                    1            <NA>                        <NA>   \n",
              "57                 <NA>            <NA>                        <NA>   \n",
              "58                 <NA>            <NA>                        <NA>   \n",
              "171                <NA>            <NA>                        <NA>   \n",
              "\n",
              "     houses_destroyed  houses_destroyed_description  \n",
              "55               <NA>                          <NA>  \n",
              "56               <NA>                          <NA>  \n",
              "57               <NA>                          <NA>  \n",
              "58               <NA>                          <NA>  \n",
              "171              <NA>                          <NA>  "
            ],
            "text/html": [
              "\n",
              "  <div id=\"df-2da5e310-131c-4c17-82f6-fe7f3b014421\">\n",
              "    <div class=\"colab-df-container\">\n",
              "      <div>\n",
              "<style scoped>\n",
              "    .dataframe tbody tr th:only-of-type {\n",
              "        vertical-align: middle;\n",
              "    }\n",
              "\n",
              "    .dataframe tbody tr th {\n",
              "        vertical-align: top;\n",
              "    }\n",
              "\n",
              "    .dataframe thead th {\n",
              "        text-align: right;\n",
              "    }\n",
              "</style>\n",
              "<table border=\"1\" class=\"dataframe\">\n",
              "  <thead>\n",
              "    <tr style=\"text-align: right;\">\n",
              "      <th></th>\n",
              "      <th>id</th>\n",
              "      <th>tsevent_id</th>\n",
              "      <th>year</th>\n",
              "      <th>month</th>\n",
              "      <th>day</th>\n",
              "      <th>timestamp</th>\n",
              "      <th>doubtful</th>\n",
              "      <th>country</th>\n",
              "      <th>state</th>\n",
              "      <th>location_name</th>\n",
              "      <th>latitude</th>\n",
              "      <th>longitude</th>\n",
              "      <th>region_code</th>\n",
              "      <th>distance_from_source</th>\n",
              "      <th>arr_day</th>\n",
              "      <th>arr_hour</th>\n",
              "      <th>arr_min</th>\n",
              "      <th>travel_time_hours</th>\n",
              "      <th>travel_time_minutes</th>\n",
              "      <th>water_ht</th>\n",
              "      <th>horizontal_inundation</th>\n",
              "      <th>type_measurement_id</th>\n",
              "      <th>period</th>\n",
              "      <th>first_motion</th>\n",
              "      <th>deaths</th>\n",
              "      <th>deaths_description</th>\n",
              "      <th>injuries</th>\n",
              "      <th>injuries_description</th>\n",
              "      <th>damage_millions_dollars</th>\n",
              "      <th>damage_description</th>\n",
              "      <th>houses_damaged</th>\n",
              "      <th>houses_damaged_description</th>\n",
              "      <th>houses_destroyed</th>\n",
              "      <th>houses_destroyed_description</th>\n",
              "    </tr>\n",
              "  </thead>\n",
              "  <tbody>\n",
              "    <tr>\n",
              "      <th>55</th>\n",
              "      <td>25417</td>\n",
              "      <td>1456</td>\n",
              "      <td>1918</td>\n",
              "      <td>8</td>\n",
              "      <td>15</td>\n",
              "      <td>1918-08-15 12:18:12</td>\n",
              "      <td>None</td>\n",
              "      <td>INDONESIA</td>\n",
              "      <td>NORTH SULAWESI</td>\n",
              "      <td>MANADO, SULAWESI ISLAND</td>\n",
              "      <td>1.4950</td>\n",
              "      <td>124.8400</td>\n",
              "      <td>83</td>\n",
              "      <td>490</td>\n",
              "      <td>15</td>\n",
              "      <td>21</td>\n",
              "      <td>15</td>\n",
              "      <td>9</td>\n",
              "      <td>7</td>\n",
              "      <td>1.00</td>\n",
              "      <td>NaN</td>\n",
              "      <td>1</td>\n",
              "      <td>NaN</td>\n",
              "      <td>None</td>\n",
              "      <td>&lt;NA&gt;</td>\n",
              "      <td>&lt;NA&gt;</td>\n",
              "      <td>&lt;NA&gt;</td>\n",
              "      <td>&lt;NA&gt;</td>\n",
              "      <td>NaN</td>\n",
              "      <td>&lt;NA&gt;</td>\n",
              "      <td>&lt;NA&gt;</td>\n",
              "      <td>&lt;NA&gt;</td>\n",
              "      <td>&lt;NA&gt;</td>\n",
              "      <td>&lt;NA&gt;</td>\n",
              "    </tr>\n",
              "    <tr>\n",
              "      <th>56</th>\n",
              "      <td>25418</td>\n",
              "      <td>1456</td>\n",
              "      <td>1918</td>\n",
              "      <td>8</td>\n",
              "      <td>15</td>\n",
              "      <td>1918-08-15 12:18:12</td>\n",
              "      <td>None</td>\n",
              "      <td>INDONESIA</td>\n",
              "      <td>CENTRAL SULAWESI</td>\n",
              "      <td>BUOL, SULAWESI ISLAND</td>\n",
              "      <td>1.1667</td>\n",
              "      <td>121.4333</td>\n",
              "      <td>83</td>\n",
              "      <td>512</td>\n",
              "      <td>15</td>\n",
              "      <td>21</td>\n",
              "      <td>15</td>\n",
              "      <td>9</td>\n",
              "      <td>7</td>\n",
              "      <td>NaN</td>\n",
              "      <td>NaN</td>\n",
              "      <td>1</td>\n",
              "      <td>NaN</td>\n",
              "      <td>None</td>\n",
              "      <td>&lt;NA&gt;</td>\n",
              "      <td>&lt;NA&gt;</td>\n",
              "      <td>&lt;NA&gt;</td>\n",
              "      <td>&lt;NA&gt;</td>\n",
              "      <td>NaN</td>\n",
              "      <td>1</td>\n",
              "      <td>&lt;NA&gt;</td>\n",
              "      <td>&lt;NA&gt;</td>\n",
              "      <td>&lt;NA&gt;</td>\n",
              "      <td>&lt;NA&gt;</td>\n",
              "    </tr>\n",
              "    <tr>\n",
              "      <th>57</th>\n",
              "      <td>1763</td>\n",
              "      <td>1456</td>\n",
              "      <td>1918</td>\n",
              "      <td>8</td>\n",
              "      <td>15</td>\n",
              "      <td>1918-08-15 12:18:12</td>\n",
              "      <td>None</td>\n",
              "      <td>INDONESIA</td>\n",
              "      <td>CENTRAL SULAWESI</td>\n",
              "      <td>PALELEH, SULAWESI ISLAND</td>\n",
              "      <td>1.0481</td>\n",
              "      <td>121.9514</td>\n",
              "      <td>83</td>\n",
              "      <td>509</td>\n",
              "      <td>15</td>\n",
              "      <td>21</td>\n",
              "      <td>0</td>\n",
              "      <td>8</td>\n",
              "      <td>52</td>\n",
              "      <td>NaN</td>\n",
              "      <td>NaN</td>\n",
              "      <td>1</td>\n",
              "      <td>NaN</td>\n",
              "      <td>None</td>\n",
              "      <td>&lt;NA&gt;</td>\n",
              "      <td>&lt;NA&gt;</td>\n",
              "      <td>&lt;NA&gt;</td>\n",
              "      <td>&lt;NA&gt;</td>\n",
              "      <td>NaN</td>\n",
              "      <td>&lt;NA&gt;</td>\n",
              "      <td>&lt;NA&gt;</td>\n",
              "      <td>&lt;NA&gt;</td>\n",
              "      <td>&lt;NA&gt;</td>\n",
              "      <td>&lt;NA&gt;</td>\n",
              "    </tr>\n",
              "    <tr>\n",
              "      <th>58</th>\n",
              "      <td>10030</td>\n",
              "      <td>1244</td>\n",
              "      <td>1897</td>\n",
              "      <td>9</td>\n",
              "      <td>21</td>\n",
              "      <td>1897-09-21 05:12:00</td>\n",
              "      <td>None</td>\n",
              "      <td>INDONESIA</td>\n",
              "      <td>NORTH SULAWESI</td>\n",
              "      <td>SIAU ISLAND</td>\n",
              "      <td>2.8100</td>\n",
              "      <td>125.4100</td>\n",
              "      <td>83</td>\n",
              "      <td>519</td>\n",
              "      <td>21</td>\n",
              "      <td>8</td>\n",
              "      <td>30</td>\n",
              "      <td>1</td>\n",
              "      <td>30</td>\n",
              "      <td>NaN</td>\n",
              "      <td>NaN</td>\n",
              "      <td>1</td>\n",
              "      <td>NaN</td>\n",
              "      <td>None</td>\n",
              "      <td>&lt;NA&gt;</td>\n",
              "      <td>&lt;NA&gt;</td>\n",
              "      <td>&lt;NA&gt;</td>\n",
              "      <td>&lt;NA&gt;</td>\n",
              "      <td>NaN</td>\n",
              "      <td>&lt;NA&gt;</td>\n",
              "      <td>&lt;NA&gt;</td>\n",
              "      <td>&lt;NA&gt;</td>\n",
              "      <td>&lt;NA&gt;</td>\n",
              "      <td>&lt;NA&gt;</td>\n",
              "    </tr>\n",
              "    <tr>\n",
              "      <th>171</th>\n",
              "      <td>17182</td>\n",
              "      <td>4763</td>\n",
              "      <td>2010</td>\n",
              "      <td>4</td>\n",
              "      <td>6</td>\n",
              "      <td>2010-04-06 22:15:01</td>\n",
              "      <td>None</td>\n",
              "      <td>INDONESIA</td>\n",
              "      <td>NORTH SUMATRA</td>\n",
              "      <td>SIBOLGA, SUMATRA</td>\n",
              "      <td>1.7290</td>\n",
              "      <td>98.7850</td>\n",
              "      <td>60</td>\n",
              "      <td>206</td>\n",
              "      <td>6</td>\n",
              "      <td>23</td>\n",
              "      <td>33</td>\n",
              "      <td>1</td>\n",
              "      <td>18</td>\n",
              "      <td>0.19</td>\n",
              "      <td>NaN</td>\n",
              "      <td>2</td>\n",
              "      <td>33.0</td>\n",
              "      <td>R</td>\n",
              "      <td>&lt;NA&gt;</td>\n",
              "      <td>&lt;NA&gt;</td>\n",
              "      <td>&lt;NA&gt;</td>\n",
              "      <td>&lt;NA&gt;</td>\n",
              "      <td>NaN</td>\n",
              "      <td>&lt;NA&gt;</td>\n",
              "      <td>&lt;NA&gt;</td>\n",
              "      <td>&lt;NA&gt;</td>\n",
              "      <td>&lt;NA&gt;</td>\n",
              "      <td>&lt;NA&gt;</td>\n",
              "    </tr>\n",
              "  </tbody>\n",
              "</table>\n",
              "</div>\n",
              "      <button class=\"colab-df-convert\" onclick=\"convertToInteractive('df-2da5e310-131c-4c17-82f6-fe7f3b014421')\"\n",
              "              title=\"Convert this dataframe to an interactive table.\"\n",
              "              style=\"display:none;\">\n",
              "        \n",
              "  <svg xmlns=\"http://www.w3.org/2000/svg\" height=\"24px\"viewBox=\"0 0 24 24\"\n",
              "       width=\"24px\">\n",
              "    <path d=\"M0 0h24v24H0V0z\" fill=\"none\"/>\n",
              "    <path d=\"M18.56 5.44l.94 2.06.94-2.06 2.06-.94-2.06-.94-.94-2.06-.94 2.06-2.06.94zm-11 1L8.5 8.5l.94-2.06 2.06-.94-2.06-.94L8.5 2.5l-.94 2.06-2.06.94zm10 10l.94 2.06.94-2.06 2.06-.94-2.06-.94-.94-2.06-.94 2.06-2.06.94z\"/><path d=\"M17.41 7.96l-1.37-1.37c-.4-.4-.92-.59-1.43-.59-.52 0-1.04.2-1.43.59L10.3 9.45l-7.72 7.72c-.78.78-.78 2.05 0 2.83L4 21.41c.39.39.9.59 1.41.59.51 0 1.02-.2 1.41-.59l7.78-7.78 2.81-2.81c.8-.78.8-2.07 0-2.86zM5.41 20L4 18.59l7.72-7.72 1.47 1.35L5.41 20z\"/>\n",
              "  </svg>\n",
              "      </button>\n",
              "      \n",
              "  <style>\n",
              "    .colab-df-container {\n",
              "      display:flex;\n",
              "      flex-wrap:wrap;\n",
              "      gap: 12px;\n",
              "    }\n",
              "\n",
              "    .colab-df-convert {\n",
              "      background-color: #E8F0FE;\n",
              "      border: none;\n",
              "      border-radius: 50%;\n",
              "      cursor: pointer;\n",
              "      display: none;\n",
              "      fill: #1967D2;\n",
              "      height: 32px;\n",
              "      padding: 0 0 0 0;\n",
              "      width: 32px;\n",
              "    }\n",
              "\n",
              "    .colab-df-convert:hover {\n",
              "      background-color: #E2EBFA;\n",
              "      box-shadow: 0px 1px 2px rgba(60, 64, 67, 0.3), 0px 1px 3px 1px rgba(60, 64, 67, 0.15);\n",
              "      fill: #174EA6;\n",
              "    }\n",
              "\n",
              "    [theme=dark] .colab-df-convert {\n",
              "      background-color: #3B4455;\n",
              "      fill: #D2E3FC;\n",
              "    }\n",
              "\n",
              "    [theme=dark] .colab-df-convert:hover {\n",
              "      background-color: #434B5C;\n",
              "      box-shadow: 0px 1px 3px 1px rgba(0, 0, 0, 0.15);\n",
              "      filter: drop-shadow(0px 1px 2px rgba(0, 0, 0, 0.3));\n",
              "      fill: #FFFFFF;\n",
              "    }\n",
              "  </style>\n",
              "\n",
              "      <script>\n",
              "        const buttonEl =\n",
              "          document.querySelector('#df-2da5e310-131c-4c17-82f6-fe7f3b014421 button.colab-df-convert');\n",
              "        buttonEl.style.display =\n",
              "          google.colab.kernel.accessAllowed ? 'block' : 'none';\n",
              "\n",
              "        async function convertToInteractive(key) {\n",
              "          const element = document.querySelector('#df-2da5e310-131c-4c17-82f6-fe7f3b014421');\n",
              "          const dataTable =\n",
              "            await google.colab.kernel.invokeFunction('convertToInteractive',\n",
              "                                                     [key], {});\n",
              "          if (!dataTable) return;\n",
              "\n",
              "          const docLinkHtml = 'Like what you see? Visit the ' +\n",
              "            '<a target=\"_blank\" href=https://colab.research.google.com/notebooks/data_table.ipynb>data table notebook</a>'\n",
              "            + ' to learn more about interactive tables.';\n",
              "          element.innerHTML = '';\n",
              "          dataTable['output_type'] = 'display_data';\n",
              "          await google.colab.output.renderOutput(dataTable, element);\n",
              "          const docLink = document.createElement('div');\n",
              "          docLink.innerHTML = docLinkHtml;\n",
              "          element.appendChild(docLink);\n",
              "        }\n",
              "      </script>\n",
              "    </div>\n",
              "  </div>\n",
              "  "
            ]
          },
          "metadata": {},
          "execution_count": 14
        }
      ]
    },
    {
      "cell_type": "code",
      "source": [],
      "metadata": {
        "id": "-ZR3sVvieVY4"
      },
      "execution_count": null,
      "outputs": []
    },
    {
      "cell_type": "markdown",
      "source": [
        "**Drop Null and Unusefull Columns**"
      ],
      "metadata": {
        "id": "FXJz8NCriOB-"
      }
    },
    {
      "cell_type": "code",
      "source": [
        "#original\n",
        "print(\"shape before drop null :\", df_indonesia.shape)\n",
        "      \n",
        "#drop null on lat long\n",
        "df_indonesia.dropna()\n",
        "df_indonesia.dropna(axis = 0, subset = ['latitude','longitude', 'distance_from_source','water_ht'], inplace=True)\n",
        "      \n",
        "print(\"shape after drop null :\", df_indonesia.shape)"
      ],
      "metadata": {
        "colab": {
          "base_uri": "https://localhost:8080/"
        },
        "id": "yJsLm3lTUtbF",
        "outputId": "221badd9-8262-4fe9-e478-15eff8b28a2a"
      },
      "execution_count": 15,
      "outputs": [
        {
          "output_type": "stream",
          "name": "stdout",
          "text": [
            "shape before drop null : (2591, 34)\n",
            "shape after drop null : (2186, 34)\n"
          ]
        },
        {
          "output_type": "stream",
          "name": "stderr",
          "text": [
            "/usr/local/lib/python3.8/dist-packages/pandas/util/_decorators.py:311: SettingWithCopyWarning: \n",
            "A value is trying to be set on a copy of a slice from a DataFrame\n",
            "\n",
            "See the caveats in the documentation: https://pandas.pydata.org/pandas-docs/stable/user_guide/indexing.html#returning-a-view-versus-a-copy\n",
            "  return func(*args, **kwargs)\n"
          ]
        }
      ]
    },
    {
      "cell_type": "code",
      "source": [
        "df_indonesia_useful = df_indonesia[['year', 'month', 'day', 'timestamp', 'latitude','longitude', 'distance_from_source','water_ht', 'state' ,\t\n",
        "                                        'location_name']]"
      ],
      "metadata": {
        "id": "fESBfgGoewRW"
      },
      "execution_count": 18,
      "outputs": []
    },
    {
      "cell_type": "code",
      "source": [
        "df_indonesia_useful['state'].value_counts()"
      ],
      "metadata": {
        "colab": {
          "base_uri": "https://localhost:8080/"
        },
        "id": "eoN-ykl_Vd_u",
        "outputId": "c45fe7ac-d0a5-43a3-de09-3e3e504f15d2"
      },
      "execution_count": 19,
      "outputs": [
        {
          "output_type": "execute_result",
          "data": {
            "text/plain": [
              "ACEH                   527\n",
              "WEST SUMATRA           348\n",
              "CENTRAL SULAWESI       314\n",
              "BANTEN                 245\n",
              "LAMPUNG                147\n",
              "EAST JAVA              103\n",
              "EAST NUSA TENGGARA      89\n",
              "WEST JAVA               78\n",
              "PAPUA                   59\n",
              "NORTH SUMATRA           56\n",
              "MALUKU                  44\n",
              "CENTRAL JAVA            40\n",
              "BENGKULU                34\n",
              "BALI                    16\n",
              "NORTH SULAWESI          16\n",
              "NORTH MALUKU            13\n",
              "WEST PAPUA              11\n",
              "YOGYAKARTA              10\n",
              "WEST NUSA TENGGARA       8\n",
              "WESTJAVA                 6\n",
              "SOUTH SULAWESI           5\n",
              "SOUTH EAST SULAWESI      3\n",
              "JAKARTA                  2\n",
              "SUNDA STRAIT             2\n",
              "SOUTH KALIMANTAN         2\n",
              "WEST SULAWESI            2\n",
              "SUMATRA                  1\n",
              "WEST KALIMANTAN          1\n",
              "Name: state, dtype: int64"
            ]
          },
          "metadata": {},
          "execution_count": 19
        }
      ]
    },
    {
      "cell_type": "code",
      "source": [
        "plt.figure(figsize=(20,20))\n",
        "\n",
        "x =1\n",
        "for col in df_indonesia_useful:\n",
        "  ax = plt.subplot(4,4,x)\n",
        "  sns.histplot(data = df_indonesia_useful, kde = True)\n",
        "  x =+ 1\n",
        "\n",
        "plt.show()\n"
      ],
      "metadata": {
        "id": "4gqM8QpZWAuV",
        "colab": {
          "base_uri": "https://localhost:8080/"
        },
        "outputId": "5dc5380b-4f83-4ca8-b220-50673e7b0ac1"
      },
      "execution_count": null,
      "outputs": [
        {
          "output_type": "stream",
          "name": "stderr",
          "text": [
            "<ipython-input-24-ec821891806e>:5: MatplotlibDeprecationWarning: Adding an axes using the same arguments as a previous axes currently reuses the earlier instance.  In a future version, a new instance will always be created and returned.  Meanwhile, this warning can be suppressed, and the future behavior ensured, by passing a unique label to each axes instance.\n",
            "  ax = plt.subplot(4,4,x)\n",
            "<ipython-input-24-ec821891806e>:5: MatplotlibDeprecationWarning: Adding an axes using the same arguments as a previous axes currently reuses the earlier instance.  In a future version, a new instance will always be created and returned.  Meanwhile, this warning can be suppressed, and the future behavior ensured, by passing a unique label to each axes instance.\n",
            "  ax = plt.subplot(4,4,x)\n",
            "<ipython-input-24-ec821891806e>:5: MatplotlibDeprecationWarning: Adding an axes using the same arguments as a previous axes currently reuses the earlier instance.  In a future version, a new instance will always be created and returned.  Meanwhile, this warning can be suppressed, and the future behavior ensured, by passing a unique label to each axes instance.\n",
            "  ax = plt.subplot(4,4,x)\n",
            "<ipython-input-24-ec821891806e>:5: MatplotlibDeprecationWarning: Adding an axes using the same arguments as a previous axes currently reuses the earlier instance.  In a future version, a new instance will always be created and returned.  Meanwhile, this warning can be suppressed, and the future behavior ensured, by passing a unique label to each axes instance.\n",
            "  ax = plt.subplot(4,4,x)\n",
            "<ipython-input-24-ec821891806e>:5: MatplotlibDeprecationWarning: Adding an axes using the same arguments as a previous axes currently reuses the earlier instance.  In a future version, a new instance will always be created and returned.  Meanwhile, this warning can be suppressed, and the future behavior ensured, by passing a unique label to each axes instance.\n",
            "  ax = plt.subplot(4,4,x)\n",
            "<ipython-input-24-ec821891806e>:5: MatplotlibDeprecationWarning: Adding an axes using the same arguments as a previous axes currently reuses the earlier instance.  In a future version, a new instance will always be created and returned.  Meanwhile, this warning can be suppressed, and the future behavior ensured, by passing a unique label to each axes instance.\n",
            "  ax = plt.subplot(4,4,x)\n",
            "<ipython-input-24-ec821891806e>:5: MatplotlibDeprecationWarning: Adding an axes using the same arguments as a previous axes currently reuses the earlier instance.  In a future version, a new instance will always be created and returned.  Meanwhile, this warning can be suppressed, and the future behavior ensured, by passing a unique label to each axes instance.\n",
            "  ax = plt.subplot(4,4,x)\n",
            "<ipython-input-24-ec821891806e>:5: MatplotlibDeprecationWarning: Adding an axes using the same arguments as a previous axes currently reuses the earlier instance.  In a future version, a new instance will always be created and returned.  Meanwhile, this warning can be suppressed, and the future behavior ensured, by passing a unique label to each axes instance.\n",
            "  ax = plt.subplot(4,4,x)\n",
            "<ipython-input-24-ec821891806e>:5: MatplotlibDeprecationWarning: Adding an axes using the same arguments as a previous axes currently reuses the earlier instance.  In a future version, a new instance will always be created and returned.  Meanwhile, this warning can be suppressed, and the future behavior ensured, by passing a unique label to each axes instance.\n",
            "  ax = plt.subplot(4,4,x)\n"
          ]
        }
      ]
    },
    {
      "cell_type": "code",
      "source": [],
      "metadata": {
        "id": "ZITSX_T5hqfR"
      },
      "execution_count": 19,
      "outputs": []
    },
    {
      "cell_type": "code",
      "source": [],
      "metadata": {
        "id": "M4p9y22Si_Z1"
      },
      "execution_count": 7,
      "outputs": []
    }
  ]
}